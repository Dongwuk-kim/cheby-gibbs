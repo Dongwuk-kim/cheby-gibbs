{
 "cells": [
  {
   "cell_type": "code",
   "execution_count": 2,
   "metadata": {},
   "outputs": [
    {
     "data": {
      "text/plain": [
       "gauss_seidel_multiply! (generic function with 1 method)"
      ]
     },
     "execution_count": 2,
     "metadata": {},
     "output_type": "execute_result"
    }
   ],
   "source": [
    "import LinearAlgebra: mul!, ldiv!\n",
    "import Base: getindex, iterate\n",
    "\n",
    "using SparseArrays\n",
    "\n",
    "struct DiagonalIndices{Tv, Ti <: Integer}\n",
    "    matrix::SparseMatrixCSC{Tv,Ti}\n",
    "    diag::Vector{Ti}\n",
    "\n",
    "    function DiagonalIndices{Tv,Ti}(A::SparseMatrixCSC{Tv,Ti}) where {Tv,Ti}\n",
    "        # Check square?\n",
    "        diag = Vector{Ti}(undef, A.n)\n",
    "\n",
    "        for col = 1 : A.n\n",
    "            r1 = Int(A.colptr[col])\n",
    "            r2 = Int(A.colptr[col + 1] - 1)\n",
    "            r1 = searchsortedfirst(A.rowval, col, r1, r2, Base.Order.Forward)\n",
    "            if r1 > r2 || A.rowval[r1] != col || iszero(A.nzval[r1])\n",
    "                throw(LinearAlgebra.SingularException(col))\n",
    "            end\n",
    "            diag[col] = r1\n",
    "        end \n",
    "\n",
    "        new(A, diag) #\n",
    "    end\n",
    "end\n",
    "\n",
    "DiagonalIndices(A::SparseMatrixCSC{Tv,Ti}) where {Tv,Ti} = DiagonalIndices{Tv,Ti}(A)\n",
    "#밖에서도 함수로 쓸수있게 따로 빼준건가?\n",
    "\n",
    "#DiagonalIndices 특징은 Sparse matrix의 nz diagonal element vector로 변환시키며,\n",
    "#diagonal term에 0이 있으면 안된다.\n",
    "#원 matrix을 담고 있는 구조체임.\n",
    "# A.nz는 col 순서대로 적어내린 values\n",
    "# A.row는 nz 기준 해당 row index\n",
    "# A.cor은 i에  해당하는 nz index 범위를 찍어줌\n",
    "\n",
    "@inline getindex(d::DiagonalIndices, i::Int) = d.diag[i]\n",
    "#get index를 선언해줘야 forwardsub!가 돌아갔음..\n",
    "\n",
    "\n",
    "\n",
    "struct FastLowerTriangular{Tv,Ti}\n",
    "    matrix::SparseMatrixCSC{Tv,Ti}\n",
    "    diag::DiagonalIndices{Tv,Ti}\n",
    "end\n",
    "\n",
    "struct FastUpperTriangular{Tv,Ti}\n",
    "    matrix::SparseMatrixCSC{Tv,Ti}\n",
    "    diag::DiagonalIndices{Tv,Ti}\n",
    "end\n",
    "\n",
    "struct StrictlyUpperTriangular{Tv,Ti}\n",
    "    matrix::SparseMatrixCSC{Tv,Ti}\n",
    "    diag::DiagonalIndices{Tv,Ti}\n",
    "end\n",
    "\n",
    "struct StrictlyLowerTriangular{Tv,Ti}\n",
    "    matrix::SparseMatrixCSC{Tv,Ti}\n",
    "    diag::DiagonalIndices{Tv,Ti}\n",
    "end\n",
    "\n",
    "struct OffDiagonal{Tv,Ti}\n",
    "    matrix::SparseMatrixCSC{Tv,Ti}\n",
    "    diag::DiagonalIndices{Tv,Ti}\n",
    "end\n",
    "\n",
    "\n",
    "\"\"\"\n",
    "Forward substitution for the FastLowerTriangular type\n",
    "\"\"\"\n",
    "function forward_sub!(F::FastLowerTriangular, x::AbstractVector)\n",
    "    A = F.matrix\n",
    "    @inbounds for col = 1 : A.n\n",
    "        idx = F.diag[col]\n",
    "        x[col] /= A.nzval[idx] # ok\n",
    "        for i = idx + 1 : (A.colptr[col + 1] - 1) #colptr인데 lower triangular이기 때문에 해당 col의 diagonal 아래 개수가나옴.\n",
    "            x[A.rowval[i]] -= A.nzval[i] * x[col] # 이 term으로 x[n] 계산할때 그이전텀들이 다 마이너스 되어서 있음. \n",
    "        end\n",
    "    end\n",
    "    x\n",
    "end\n",
    "\n",
    "# solve  A(x- β × y) = α × b (여기서 b = x)\n",
    "function forward_sub!(α, F::FastLowerTriangular, x::AbstractVector, β, y::AbstractVector)\n",
    "    A = F.matrix\n",
    "\n",
    "    @inbounds for col = 1 : A.n\n",
    "\n",
    "        # Solve for diagonal element\n",
    "        idx = F.diag[col]\n",
    "        x[col] = α * x[col] / A.nzval[idx] + β * y[col]\n",
    "\n",
    "        # Substitute next values involving x[col]\n",
    "        for i = idx + 1 : (A.colptr[col + 1] - 1)\n",
    "            x[A.rowval[i]] -= A.nzval[i] * x[col]\n",
    "        end\n",
    "    end\n",
    "\n",
    "    x\n",
    "end\n",
    "\n",
    "#(α×A)+(β×y)  \n",
    "function mul!(α::T, O::OffDiagonal, x::AbstractVector, β::T, y::AbstractVector) where {T}\n",
    "    # Specialize for β = 0 and β = 1\n",
    "    A = O.matrix\n",
    "\n",
    "    if β != one(T)\n",
    "        if iszero(β)\n",
    "            fill!(y, zero(T))\n",
    "        else\n",
    "            lmul!(β, y) #그냥 베타 곱해주는 함수\n",
    "        end\n",
    "    end\n",
    "\n",
    "    @inbounds for col = 1 : A.n\n",
    "        αx = α * x[col]\n",
    "        diag_index = O.diag[col]\n",
    "        for j = A.colptr[col] : diag_index - 1 #off diagonal 이기때문에 해당 제외 데이터 개수\n",
    "            y[A.rowval[j]] += A.nzval[j] * αx #y를 솔루션이라고 하면 해당하는 \n",
    "        end\n",
    "        #off diagonal 하나 빼는게 힘들어서 이지랄/..\n",
    "        for j = diag_index + 1 : A.colptr[col + 1] - 1\n",
    "            y[A.rowval[j]] += A.nzval[j] * αx\n",
    "        end\n",
    "    end\n",
    "\n",
    "    y\n",
    "end\n",
    "\n",
    "# (α×U×X)+(β×y)\n",
    "function gauss_seidel_multiply!(α, U::StrictlyUpperTriangular, x::AbstractVector, β, y::AbstractVector, z::AbstractVector)\n",
    "    A = U.matrix\n",
    "\n",
    "    for col = 1 : A.n\n",
    "        αx = α * x[col]\n",
    "        diag_index = U.diag[col]\n",
    "        @inbounds for j = A.colptr[col] : diag_index - 1\n",
    "            z[A.rowval[j]] += A.nzval[j] * αx\n",
    "        end\n",
    "        z[col] = β * y[col] \n",
    "        #위에서 j = A.colptr[col] : diag_index - 1 만 건드리기때문에 β 곱하는게 우선시 됨.\n",
    "    end\n",
    "    z\n",
    "end\n"
   ]
  },
  {
   "cell_type": "code",
   "execution_count": null,
   "metadata": {},
   "outputs": [],
   "source": [
    "#Init val\n",
    "w = 0.5 # not greater than 2?\n",
    "A_ = copy(A)\n",
    "D = copy(Diagonal(A))\n",
    "max_itter = 100\n",
    "#Diagonal(A_).= 1/w *Diagonal(A_)\n",
    "#M_sor = LowerTriangular(A_)\n",
    "\n",
    "#Calc M & N\n",
    "M_sor = (1/w-1) * D +  LowerTriangular(A)\n",
    "M_ssor = w/(2-w) * M_sor * D^(-1) * Transpose(M_sor)\n",
    "N = M_ssor - A\n"
   ]
  },
  {
   "cell_type": "code",
   "execution_count": 7,
   "metadata": {},
   "outputs": [
    {
     "ename": "UndefVarError",
     "evalue": "UndefVarError: LowerTriangular not defined",
     "output_type": "error",
     "traceback": [
      "UndefVarError: LowerTriangular not defined",
      "",
      "Stacktrace:",
      " [1] top-level scope at In[7]:1"
     ]
    }
   ],
   "source": [
    "\n",
    "A_temp = LowerTriangular(A)\n",
    "#A_temp = UpperTriangular(A)\n",
    "A_temp = sparse(A_temp)\n",
    "D_a = DiagonalIndices(A_temp)\n",
    "LT = FastLowerTriangular(D_a.matrix,D_a)\n",
    "b = [1.1 ;2.0 ;3.0 ;4.0]\n",
    "display(Matrix(A_temp))\n",
    "display(b)"
   ]
  },
  {
   "cell_type": "markdown",
   "metadata": {},
   "source": [
    "# Miscellaneous"
   ]
  },
  {
   "cell_type": "code",
   "execution_count": 4,
   "metadata": {},
   "outputs": [
    {
     "data": {
      "text/plain": [
       "\"matrix A\""
      ]
     },
     "metadata": {},
     "output_type": "display_data"
    },
    {
     "data": {
      "text/plain": [
       "4×4 Array{Float64,2}:\n",
       " 1.0  2.0  3.0   0.0\n",
       " 1.0  1.0  0.0   0.0\n",
       " 0.0  1.0  4.0   1.0\n",
       " 1.0  0.0  0.0  10.0"
      ]
     },
     "metadata": {},
     "output_type": "display_data"
    },
    {
     "data": {
      "text/plain": [
       "\"matrix A diag\""
      ]
     },
     "metadata": {},
     "output_type": "display_data"
    },
    {
     "data": {
      "text/plain": [
       "4-element Array{Int64,1}:\n",
       "  1\n",
       "  5\n",
       "  8\n",
       " 10"
      ]
     },
     "metadata": {},
     "output_type": "display_data"
    },
    {
     "data": {
      "text/plain": [
       "Base.Multimedia.display"
      ]
     },
     "execution_count": 4,
     "metadata": {},
     "output_type": "execute_result"
    }
   ],
   "source": [
    "\n",
    "using SparseArrays\n",
    "using LinearAlgebra\n",
    "\n",
    " \n",
    "A = sparse([1.0 2 3 0; 1 1 0 0;0 1 4 1; 1 0 0 10])\n",
    "D = DiagonalIndices(A)\n",
    "\n",
    "display(\"matrix A\")\n",
    "display(Matrix(A))\n",
    "display(\"matrix A diag\")\n",
    "display(D.diag)\n",
    "b = [1.1 ;2.0 ;3.0 ;4.0]\n",
    "\n",
    "\"\"\"\n",
    "A_temp = LowerTriangular(A)\n",
    "#A_temp = UpperTriangular(A)\n",
    "A_temp = sparse(A_temp)\n",
    "D_a = DiagonalIndices(A_temp)\n",
    "LT = FastLowerTriangular(D_a.matrix,D_a)\n",
    "display(Matrix(A_temp))\n",
    "\"\"\"\n",
    "display(b)\n"
   ]
  },
  {
   "cell_type": "code",
   "execution_count": 29,
   "metadata": {},
   "outputs": [
    {
     "data": {
      "text/plain": [
       "itter_sor! (generic function with 1 method)"
      ]
     },
     "execution_count": 29,
     "metadata": {},
     "output_type": "execute_result"
    }
   ],
   "source": [
    "\n",
    "function m_sor!(A, D::DiagonalIndices, w)\n",
    "    for d_idx in D.diag \n",
    "        A.nzval[d_idx]  *= (1/w)\n",
    "    end\n",
    "    @inbounds for col = 1 : A.n\n",
    "        for j = A.colptr[col] :  A.colptr[col + 1] - 1\n",
    "            if A.rowval[j] < col \n",
    "                A.nzval[j] = 0\n",
    "            end\n",
    "        end\n",
    "    end\n",
    "    \n",
    "end\n",
    "\n",
    "\n",
    "function itter_sor!(F::FastLowerTriangular, A::SparseMatrixCSC,\n",
    "                        x::AbstractVector, b::AbstractVector, max_itter)\n",
    "    r =zeros(A.n)\n",
    "    r[:] = b - A * x\n",
    "    for i = 1 : max_itter \n",
    "        if norm( r, 2) < 10^-8 \n",
    "            return x\n",
    "        end\n",
    "        x[:] += forward_sub!(F, r)\n",
    "        r[:] = b - A * x\n",
    "    end\n",
    "    x\n",
    "end\n",
    "\n",
    "\n"
   ]
  },
  {
   "cell_type": "code",
   "execution_count": 47,
   "metadata": {},
   "outputs": [
    {
     "name": "stdout",
     "output_type": "stream",
     "text": [
      "[-0.21017728652155654, -0.5480699350194204, 0.264100394433014, -0.160085511521196, -0.575080524235595, -0.7919143059121234, -0.18078843526160096, -0.6264961520165465, -0.4541512684928235, -0.36643642934680876, -0.4188770560308934, 0.10067663339435785, -0.152052033980938, -0.09015303115391067, -0.7698714524161533, -1.2839604445486528, -0.45260612538453215, -0.5163397304411811, -0.5866070180239953, -0.3306009462247115, -0.6833379252941238, -0.19213691072543712, -0.1488797643399878, -0.3604244202031451, -0.9598856624346039, -1.3271902203384913, -0.9207152022892243, -0.826277386050504, -0.42090240650435645, -0.4014089549054248, -0.53836529464317, -0.49567710751998384, -0.4329281132829362, -0.4081495244179296, -1.391035890454468, -1.6133670773422806, -1.2787317542698329, -1.4057431368530788, -0.1971833879825893, -0.284613324944497, -0.7727880055418137, -0.5425516879669174, -0.0368396173532256, -0.7061334812078042, -1.388893367459475, -1.1210602292963603, -0.8138953915652448, -0.6444595011526874, 0.5015878826250445, 0.5594969018720011, -0.5601861617355928, -0.4337140141507888, -0.5584115974781294, -0.8797656940563698, -1.2593683569883984, -1.1927789786556402, -0.5116983043641382, -0.411631322672024, 0.8998954679934291, 0.8606817745605219, -0.9188324282975112, -1.3184318855083184, -1.7975882184635044, -1.5519419606871774, -2.02492469428895, -1.5290467837587276, -0.840559862618582, 0.012459473694980282, 0.49631060253492665, 0.6609222097634887, -0.8646435058533855, -1.184321699634775, -1.8166694755492983, -1.8774690437696346, -1.880171600453992, -1.17886448774034, -0.8355692935317823, -0.2575330109304156, 0.22645962733481217, 0.26787244511818575, -0.6183704990702078, -0.5735003632455591, -0.6966183868176814, -0.7126064436131655, -0.9504020262169856, -0.8157352612948507, -1.3963479043371898, -0.5851634980522515, -0.08545116326876125, 0.32116860575429784, -0.24714137494958613, -0.22818485103558214, -0.34631570258814903, -0.024706681668988546, -0.09217274373064792, -0.4098966050064667, -0.63657605899373, -0.633529310796217, -0.4108662428925117, -0.1241994899162743]"
     ]
    },
    {
     "data": {
      "text/plain": [
       "100-element Array{Float64,1}:\n",
       " -0.21017728509808375\n",
       " -0.5480699325104863 \n",
       "  0.26410039742866837\n",
       " -0.16008550821528222\n",
       " -0.5750805207555416 \n",
       " -0.7919143025681876 \n",
       " -0.18078843231281996\n",
       " -0.626496149666229  \n",
       " -0.454151266879815  \n",
       " -0.3664364285403613 \n",
       " -0.4188770537486328 \n",
       "  0.10067663753276102\n",
       " -0.15205202856413633\n",
       "  ⋮                  \n",
       " -0.08545116104574216\n",
       "  0.32116860686578935\n",
       " -0.24714137414245427\n",
       " -0.22818484954955479\n",
       " -0.3463157005952767 \n",
       " -0.02470667936788577\n",
       " -0.09217274132853995\n",
       " -0.4098966027020355 \n",
       " -0.6365760569620468 \n",
       " -0.633529309176767  \n",
       " -0.41086624178099485\n",
       " -0.12419948936052219"
      ]
     },
     "execution_count": 47,
     "metadata": {},
     "output_type": "execute_result"
    }
   ],
   "source": [
    "#A = sparse([1.0 2 3 0; 1 1 0 0;0 1 4 1; 1 0 0 10])\n",
    "#b = [1;2;3;4]\n",
    "sol_1 = A\\b\n",
    "print(sol_1)\n",
    "\n",
    "x = zeros(A.n)\n",
    "\n",
    "w = 0.5 \n",
    "m_sor = copy(A)\n",
    "m_sor!(m_sor, D, w)\n",
    "D_ms= DiagonalIndices(A)\n",
    "\n",
    "x = itter_sor!(FastLowerTriangular(m_sor ,D_ms), A, x , b, 1000)\n"
   ]
  },
  {
   "cell_type": "code",
   "execution_count": 48,
   "metadata": {},
   "outputs": [
    {
     "data": {
      "text/plain": [
       "100-element Array{Float64,1}:\n",
       " -0.21017728509808375\n",
       " -0.5480699325104863 \n",
       "  0.26410039742866837\n",
       " -0.16008550821528222\n",
       " -0.5750805207555416 \n",
       " -0.7919143025681876 \n",
       " -0.18078843231281996\n",
       " -0.626496149666229  \n",
       " -0.454151266879815  \n",
       " -0.3664364285403613 \n",
       " -0.4188770537486328 \n",
       "  0.10067663753276102\n",
       " -0.15205202856413633\n",
       "  ⋮                  \n",
       " -0.08545116104574216\n",
       "  0.32116860686578935\n",
       " -0.24714137414245427\n",
       " -0.22818484954955479\n",
       " -0.3463157005952767 \n",
       " -0.02470667936788577\n",
       " -0.09217274132853995\n",
       " -0.4098966027020355 \n",
       " -0.6365760569620468 \n",
       " -0.633529309176767  \n",
       " -0.41086624178099485\n",
       " -0.12419948936052219"
      ]
     },
     "execution_count": 48,
     "metadata": {},
     "output_type": "execute_result"
    }
   ],
   "source": [
    "x"
   ]
  },
  {
   "cell_type": "code",
   "execution_count": 49,
   "metadata": {},
   "outputs": [
    {
     "data": {
      "text/plain": [
       "100-element Array{Float64,1}:\n",
       " -0.21017728652155643 \n",
       " -0.5480699350194201  \n",
       "  0.26410039443301436 \n",
       " -0.16008551152119538 \n",
       " -0.5750805242355941  \n",
       " -0.7919143059121225  \n",
       " -0.1807884352616003  \n",
       " -0.6264961520165462  \n",
       " -0.4541512684928233  \n",
       " -0.36643642934680865 \n",
       " -0.41887705603089326 \n",
       "  0.10067663339435831 \n",
       " -0.15205203398093728 \n",
       "  ⋮                   \n",
       " -0.08545116326876082 \n",
       "  0.3211686057542981  \n",
       " -0.247141374949586   \n",
       " -0.22818485103558186 \n",
       " -0.3463157025881486  \n",
       " -0.024706681668987956\n",
       " -0.09217274373064724 \n",
       " -0.40989660500646613 \n",
       " -0.6365760589937295  \n",
       " -0.6335293107962168  \n",
       " -0.4108662428925116  \n",
       " -0.12419948991627419 "
      ]
     },
     "execution_count": 49,
     "metadata": {},
     "output_type": "execute_result"
    }
   ],
   "source": [
    "sor(A, b, 0.75, maxiter=10000)"
   ]
  },
  {
   "cell_type": "code",
   "execution_count": 46,
   "metadata": {},
   "outputs": [
    {
     "name": "stdout",
     "output_type": "stream",
     "text": [
      "typeof(A) = SparseMatrixCSC{Float64,Int64}\n",
      "typeof(Afull) = Array{Float64,2}\n"
     ]
    },
    {
     "data": {
      "text/plain": [
       "100-element Array{Float64,1}:\n",
       "  0.12623784496408763\n",
       " -2.3468794813834966 \n",
       "  1.9166090582536102 \n",
       " -0.23920888512829233\n",
       " -0.5784508270929073 \n",
       " -1.1278278196026448 \n",
       "  1.1478628422667982 \n",
       " -1.354705173870581  \n",
       " -0.23706547458394342\n",
       " -0.6809935026697    \n",
       " -0.8826696457022515 \n",
       "  1.7138424693341203 \n",
       " -0.7339523682572253 \n",
       "  ⋮                  \n",
       "  0.10659685478060812\n",
       "  1.2264526310840413 \n",
       " -0.1420101496925546 \n",
       "  0.25421803664096554\n",
       " -0.4357528908303444 \n",
       "  1.0522681632560082 \n",
       "  1.0163143379698492 \n",
       " -0.09510235600663826\n",
       " -0.10653041583504672\n",
       " -0.9015114432463756 \n",
       " -0.8002850075887946 \n",
       " -0.4071003225268833 "
      ]
     },
     "execution_count": 46,
     "metadata": {},
     "output_type": "execute_result"
    }
   ],
   "source": [
    "using BenchmarkTools, IterativeSolvers, LinearAlgebra, MatrixDepot, Random\n",
    "\n",
    "Random.seed!(280)\n",
    "\n",
    "n = 10\n",
    "# Poisson matrix of dimension n^2=10000, pd and sparse\n",
    "A = matrixdepot(\"poisson\", n)\n",
    "@show typeof(A)\n",
    "# dense matrix representation of A\n",
    "Afull = convert(Matrix, A)\n",
    "@show typeof(Afull)\n",
    "# sparsity level\n",
    "count(!iszero, A) / length(A)\n",
    "b = randn(n^2)"
   ]
  },
  {
   "cell_type": "code",
   "execution_count": 16,
   "metadata": {},
   "outputs": [
    {
     "data": {
      "text/plain": [
       "0.5"
      ]
     },
     "execution_count": 16,
     "metadata": {},
     "output_type": "execute_result"
    }
   ],
   "source": [
    "w"
   ]
  },
  {
   "cell_type": "code",
   "execution_count": 24,
   "metadata": {},
   "outputs": [
    {
     "data": {
      "text/plain": [
       "4×4 Array{Float64,2}:\n",
       " 2.0  0.0  0.0   0.0\n",
       " 1.0  2.0  0.0   0.0\n",
       " 0.0  1.0  8.0   0.0\n",
       " 1.0  0.0  0.0  20.0"
      ]
     },
     "execution_count": 24,
     "metadata": {},
     "output_type": "execute_result"
    }
   ],
   "source": [
    "Matrix(m_sor)"
   ]
  },
  {
   "cell_type": "code",
   "execution_count": 8,
   "metadata": {},
   "outputs": [
    {
     "data": {
      "text/plain": [
       "4-element Array{Float64,1}:\n",
       "  19.7142857142857  \n",
       " -17.7142857142857  \n",
       "   5.571428571428566\n",
       "  -1.57142857142857 "
      ]
     },
     "execution_count": 8,
     "metadata": {},
     "output_type": "execute_result"
    }
   ],
   "source": [
    "sol_1"
   ]
  },
  {
   "cell_type": "code",
   "execution_count": 53,
   "metadata": {},
   "outputs": [
    {
     "data": {
      "text/plain": [
       "4×4 Array{Float64,2}:\n",
       " 2.0  2.0  3.0   0.0\n",
       " 1.0  2.0  0.0   0.0\n",
       " 0.0  1.0  8.0   1.0\n",
       " 1.0  0.0  0.0  20.0"
      ]
     },
     "execution_count": 53,
     "metadata": {},
     "output_type": "execute_result"
    }
   ],
   "source": [
    "Matrix(m_sor)"
   ]
  },
  {
   "cell_type": "code",
   "execution_count": 39,
   "metadata": {},
   "outputs": [
    {
     "data": {
      "text/plain": [
       "4-element Array{Float64,1}:\n",
       " -0.7979274611398964 \n",
       "  1.3989637305699483 \n",
       " -0.06735751295336795\n",
       "  0.13989637305699482"
      ]
     },
     "execution_count": 39,
     "metadata": {},
     "output_type": "execute_result"
    }
   ],
   "source": [
    "A\\b"
   ]
  },
  {
   "cell_type": "code",
   "execution_count": 30,
   "metadata": {},
   "outputs": [
    {
     "data": {
      "text/plain": [
       "4×4 Array{Float64,2}:\n",
       " 2.0  2.0  3.0   0.0\n",
       " 1.0  2.0  0.0   0.0\n",
       " 0.0  1.0  8.0   1.0\n",
       " 1.0  0.0  0.0  20.0"
      ]
     },
     "execution_count": 30,
     "metadata": {},
     "output_type": "execute_result"
    }
   ],
   "source": [
    "Matrix(A)"
   ]
  },
  {
   "cell_type": "code",
   "execution_count": 31,
   "metadata": {},
   "outputs": [
    {
     "data": {
      "text/plain": [
       "4×4 Array{Float64,2}:\n",
       " 1.0  2.0  3.0   0.0\n",
       " 1.0  1.0  0.0   0.0\n",
       " 0.0  1.0  4.0   1.0\n",
       " 1.0  0.0  0.0  10.0"
      ]
     },
     "execution_count": 31,
     "metadata": {},
     "output_type": "execute_result"
    }
   ],
   "source": [
    "Matrix(m_sor)"
   ]
  }
 ],
 "metadata": {
  "kernelspec": {
   "display_name": "Julia 1.2.0",
   "language": "julia",
   "name": "julia-1.2"
  },
  "language_info": {
   "file_extension": ".jl",
   "mimetype": "application/julia",
   "name": "julia",
   "version": "1.2.0"
  }
 },
 "nbformat": 4,
 "nbformat_minor": 4
}
