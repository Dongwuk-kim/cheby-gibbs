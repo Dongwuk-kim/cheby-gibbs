{
 "cells": [
  {
   "cell_type": "markdown",
   "metadata": {},
   "source": [
    "# Review of julia itterative solver\n"
   ]
  },
  {
   "cell_type": "markdown",
   "metadata": {},
   "source": [
    "![ssor_image](algorithm_4.png)"
   ]
  },
  {
   "cell_type": "code",
   "execution_count": null,
   "metadata": {},
   "outputs": [],
   "source": [
    "\"\"\"\n",
    "struct SparseMatrixCSC{Tv,Ti<:Integer} <: AbstractSparseMatrix{Tv,Ti}\n",
    "    m::Int                  # Number of rows\n",
    "    n::Int                  # Number of columns\n",
    "    colptr::Vector{Ti}      # Column i is in colptr[i]:(colptr[i+1]-1)\n",
    "    rowval::Vector{Ti}      # Row indices of stored values\n",
    "    nzval::Vector{Tv}       # Stored values, typically nonzeros\n",
    "end\n",
    "\"\"\"\n"
   ]
  },
  {
   "cell_type": "code",
   "execution_count": 84,
   "metadata": {},
   "outputs": [
    {
     "data": {
      "text/plain": [
       "DiagonalIndices"
      ]
     },
     "execution_count": 84,
     "metadata": {},
     "output_type": "execute_result"
    }
   ],
   "source": [
    "  \n",
    "import LinearAlgebra: mul!, ldiv!\n",
    "import Base: getindex, iterate\n",
    "\n",
    "using SparseArrays\n",
    "\n",
    "struct DiagonalIndices{Tv, Ti <: Integer}\n",
    "    matrix::SparseMatrixCSC{Tv,Ti}\n",
    "    diag::Vector{Ti}\n",
    "\n",
    "    function DiagonalIndices{Tv,Ti}(A::SparseMatrixCSC{Tv,Ti}) where {Tv,Ti}\n",
    "        # Check square?\n",
    "        diag = Vector{Ti}(undef, A.n)\n",
    "\n",
    "        for col = 1 : A.n\n",
    "            r1 = Int(A.colptr[col])\n",
    "            r2 = Int(A.colptr[col + 1] - 1)\n",
    "            r1 = searchsortedfirst(A.rowval, col, r1, r2, Base.Order.Forward)\n",
    "            if r1 > r2 || A.rowval[r1] != col || iszero(A.nzval[r1])\n",
    "                throw(LinearAlgebra.SingularException(col))\n",
    "            end\n",
    "            diag[col] = r1\n",
    "        end \n",
    "\n",
    "        new(A, diag) #\n",
    "    end\n",
    "end\n",
    "\n",
    "DiagonalIndices(A::SparseMatrixCSC{Tv,Ti}) where {Tv,Ti} = DiagonalIndices{Tv,Ti}(A)\n",
    "#밖에서도 함수로 쓸수있게 따로 빼준건가?\n",
    "\n",
    "#DiagonalIndices 특징은 Sparse matrix의 nz diagonal element vector로 변환시키며,\n",
    "#diagonal term에 0이 있으면 안된다.\n",
    "#원 matrix을 담고 있는 구조체임.\n",
    "# A.nz는 col 순서대로 적어내린 values\n",
    "# A.row는 nz 기준 해당 row index\n",
    "# A.cor은 i에  해당하는 nz index 범위를 찍어줌\n",
    "\n",
    "\n",
    "\n",
    "\n"
   ]
  },
  {
   "cell_type": "code",
   "execution_count": 90,
   "metadata": {},
   "outputs": [],
   "source": [
    "\n",
    "struct FastLowerTriangular{Tv,Ti}\n",
    "    matrix::SparseMatrixCSC{Tv,Ti}\n",
    "    diag::DiagonalIndices{Tv,Ti}\n",
    "end\n"
   ]
  },
  {
   "cell_type": "code",
   "execution_count": 96,
   "metadata": {},
   "outputs": [
    {
     "data": {
      "text/plain": [
       "FastLowerTriangular{Int64,Int64}(\n",
       "  [1, 1]  =  1\n",
       "  [4, 1]  =  1\n",
       "  [1, 2]  =  2\n",
       "  [2, 2]  =  1\n",
       "  [3, 2]  =  1\n",
       "  [1, 3]  =  3\n",
       "  [3, 3]  =  4\n",
       "  [3, 4]  =  1\n",
       "  [4, 4]  =  10, DiagonalIndices{Int64,Int64}(\n",
       "  [1, 1]  =  1\n",
       "  [4, 1]  =  1\n",
       "  [1, 2]  =  2\n",
       "  [2, 2]  =  1\n",
       "  [3, 2]  =  1\n",
       "  [1, 3]  =  3\n",
       "  [3, 3]  =  4\n",
       "  [3, 4]  =  1\n",
       "  [4, 4]  =  10, [1, 4, 7, 9]))"
      ]
     },
     "execution_count": 96,
     "metadata": {},
     "output_type": "execute_result"
    }
   ],
   "source": [
    "D_a = DiagonalIndices(A)\n",
    "LT = FastLowerTriangular(D_a.matrix,D_a)"
   ]
  },
  {
   "cell_type": "code",
   "execution_count": 78,
   "metadata": {},
   "outputs": [
    {
     "data": {
      "text/plain": [
       "forward_sub!"
      ]
     },
     "execution_count": 78,
     "metadata": {},
     "output_type": "execute_result"
    }
   ],
   "source": [
    "\"\"\"\n",
    "Forward substitution for the FastLowerTriangular type\n",
    "\"\"\"\n",
    "function forward_sub!(F::FastLowerTriangular, x::AbstractVector)\n",
    "    A = F.matrix\n",
    "\n",
    "    @inbounds for col = 1 : A.n\n",
    "\n",
    "        # Solve for diagonal element\n",
    "        idx = F.diag[col]\n",
    "        x[col] /= A.nzval[idx] # 여기까진 오케 idx는 diag 까지 카운트된 idx\n",
    "        display(x)\n",
    "\n",
    "        # Substitute next values involving x[col]\n",
    "        for i = idx + 1 : (A.colptr[col + 1] - 1)  #해당 diag부터 그다음 col 전까지 nz index\n",
    "            #roval[i]는 해당하는 row를 반환 x[row] = x[row] - A해당하는거 곱하고 *를 \n",
    "            x[A.rowval[i]] -= A.nzval[i] * x[col]\n",
    "        end\n",
    "    end\n",
    "\n",
    "    x\n",
    "end"
   ]
  },
  {
   "cell_type": "code",
   "execution_count": null,
   "metadata": {},
   "outputs": [],
   "source": []
  },
  {
   "cell_type": "markdown",
   "metadata": {},
   "source": [
    "# miscellaneous"
   ]
  },
  {
   "cell_type": "code",
   "execution_count": 86,
   "metadata": {},
   "outputs": [
    {
     "data": {
      "text/plain": [
       "\"matrix A_\""
      ]
     },
     "metadata": {},
     "output_type": "display_data"
    },
    {
     "data": {
      "text/plain": [
       "4×4 Array{Int64,2}:\n",
       " 1  0  3   0\n",
       " 2  1  0   0\n",
       " 0  1  4   1\n",
       " 0  0  1  10"
      ]
     },
     "metadata": {},
     "output_type": "display_data"
    },
    {
     "data": {
      "text/plain": [
       "\"matrix A_ diag\""
      ]
     },
     "metadata": {},
     "output_type": "display_data"
    },
    {
     "data": {
      "text/plain": [
       "4-element Array{Int64,1}:\n",
       " 1\n",
       " 3\n",
       " 6\n",
       " 9"
      ]
     },
     "metadata": {},
     "output_type": "display_data"
    },
    {
     "data": {
      "text/plain": [
       "\"matrix A\""
      ]
     },
     "metadata": {},
     "output_type": "display_data"
    },
    {
     "data": {
      "text/plain": [
       "4×4 Array{Int64,2}:\n",
       " 1  2  3   0\n",
       " 0  1  0   0\n",
       " 0  1  4   1\n",
       " 1  0  0  10"
      ]
     },
     "metadata": {},
     "output_type": "display_data"
    },
    {
     "data": {
      "text/plain": [
       "\"matrix A diag\""
      ]
     },
     "metadata": {},
     "output_type": "display_data"
    },
    {
     "data": {
      "text/plain": [
       "4-element Array{Int64,1}:\n",
       " 1\n",
       " 4\n",
       " 7\n",
       " 9"
      ]
     },
     "metadata": {},
     "output_type": "display_data"
    }
   ],
   "source": [
    "A_ = sparse([1 0 3 0; 2 1 0 0;0 1 4 1; 0 0 1 10])\n",
    "Da_ = DiagonalIndices(A_)\n",
    "\n",
    "display(\"matrix A_\")\n",
    "display(Matrix(A_))\n",
    "display(\"matrix A_ diag\")\n",
    "display(Da_.diag)\n",
    "\n",
    "A = sparse([1 2 3 0; 0 1 0 0;0 1 4 1; 1 0 0 10])\n",
    "Da = DiagonalIndices(A)\n",
    "\n",
    "display(\"matrix A\")\n",
    "display(Matrix(A))\n",
    "display(\"matrix A diag\")\n",
    "display(Da.diag)\n",
    "\n",
    "\n",
    "#A.colptr #col_i에서 매칭된 element 개수와 위치 with A.nzval[col[i] : col[i+1]-1]\n",
    "#A.diag는 col base counting에서 n-th diag elment까지 nz element의 개수(자기 포함)\n",
    "#diag는 nzval map을 이용해서 diag로 접근가능\n",
    "#get index 참고하면 알 수 있음."
   ]
  },
  {
   "cell_type": "code",
   "execution_count": 74,
   "metadata": {
    "jupyter": {
     "source_hidden": true
    }
   },
   "outputs": [
    {
     "data": {
      "text/plain": [
       "9-element Array{Int64,1}:\n",
       " 1\n",
       " 4\n",
       " 1\n",
       " 2\n",
       " 3\n",
       " 1\n",
       " 3\n",
       " 3\n",
       " 4"
      ]
     },
     "execution_count": 74,
     "metadata": {},
     "output_type": "execute_result"
    }
   ],
   "source": [
    "A.rowval"
   ]
  },
  {
   "cell_type": "markdown",
   "metadata": {},
   "source": [
    "The following two types are equivalent – one with a default constructor, the other with an explicit constructor:\n",
    "\n",
    "~~~\n",
    "julia> struct T1\n",
    "           x::Int64\n",
    "       end\n",
    "\n",
    "julia> struct T2\n",
    "           x::Int64\n",
    "           T2(x) = new(x)\n",
    "       end\n",
    "~~~\n"
   ]
  }
 ],
 "metadata": {
  "kernelspec": {
   "display_name": "Julia 1.2.0",
   "language": "julia",
   "name": "julia-1.2"
  },
  "language_info": {
   "file_extension": ".jl",
   "mimetype": "application/julia",
   "name": "julia",
   "version": "1.2.0"
  }
 },
 "nbformat": 4,
 "nbformat_minor": 4
}
