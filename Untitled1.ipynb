{
 "cells": [
  {
   "cell_type": "markdown",
   "metadata": {},
   "source": [
    "#Review of julia itterative solver\n"
   ]
  },
  {
   "cell_type": "code",
   "execution_count": 3,
   "metadata": {},
   "outputs": [
    {
     "name": "stdout",
     "output_type": "stream",
     "text": [
      "include group.jl for user defined matrix generators\n",
      "verify download of index files...\n",
      "used remote site is https://sparse.tamu.edu/?per_page=All\n",
      "populating internal database...\n",
      "typeof(A) = SparseMatrixCSC{Float64,Int64}\n",
      "typeof(Afull) = Array{Float64,2}\n"
     ]
    },
    {
     "data": {
      "text/plain": [
       "10000-element Array{Float64,1}:\n",
       "  0.12623784496408763 \n",
       " -2.3468794813834966  \n",
       "  1.9166090582536102  \n",
       " -0.23920888512829233 \n",
       " -0.5784508270929073  \n",
       " -1.1278278196026448  \n",
       "  1.1478628422667982  \n",
       " -1.354705173870581   \n",
       " -0.23706547458394342 \n",
       " -0.6809935026697     \n",
       " -0.8826696457022515  \n",
       "  1.7138424693341203  \n",
       " -0.7339523682572253  \n",
       "  ⋮                   \n",
       " -1.1242756459799825  \n",
       " -1.5840165152654142  \n",
       " -0.18205667606452444 \n",
       " -0.7596266189004605  \n",
       " -1.4396141684820316  \n",
       "  0.004180129114450185\n",
       " -0.07636458207051988 \n",
       " -1.9658459863745268  \n",
       " -1.3457051266647149  \n",
       "  0.3120272656011855  \n",
       "  0.6456518202208312  \n",
       " -0.28866613765800436 "
      ]
     },
     "execution_count": 3,
     "metadata": {},
     "output_type": "execute_result"
    }
   ],
   "source": [
    "using BenchmarkTools, IterativeSolvers, LinearAlgebra, MatrixDepot, Random\n",
    "\n",
    "Random.seed!(280)\n",
    "\n",
    "n = 100\n",
    "# Poisson matrix of dimension n^2=10000, pd and sparse\n",
    "A = matrixdepot(\"poisson\", n)\n",
    "@show typeof(A)\n",
    "# dense matrix representation of A\n",
    "Afull = convert(Matrix, A)\n",
    "@show typeof(Afull)\n",
    "# sparsity level\n",
    "count(!iszero, A) / length(A)\n",
    "b = randn(n^2)"
   ]
  },
  {
   "cell_type": "code",
   "execution_count": 2,
   "metadata": {},
   "outputs": [
    {
     "data": {
      "text/plain": [
       "DiagonalIndices"
      ]
     },
     "execution_count": 2,
     "metadata": {},
     "output_type": "execute_result"
    }
   ],
   "source": [
    "  \n",
    "import LinearAlgebra: mul!, ldiv!\n",
    "import Base: getindex, iterate\n",
    "\n",
    "using SparseArrays\n",
    "\n",
    "struct DiagonalIndices{Tv, Ti <: Integer}\n",
    "    matrix::SparseMatrixCSC{Tv,Ti}\n",
    "    diag::Vector{Ti}\n",
    "\n",
    "    function DiagonalIndices{Tv,Ti}(A::SparseMatrixCSC{Tv,Ti}) where {Tv,Ti}\n",
    "        # Check square?\n",
    "        diag = Vector{Ti}(undef, A.n)\n",
    "\n",
    "        for col = 1 : A.n\n",
    "            r1 = Int(A.colptr[col])\n",
    "            r2 = Int(A.colptr[col + 1] - 1)\n",
    "            r1 = searchsortedfirst(A.rowval, col, r1, r2, Base.Order.Forward)\n",
    "            if r1 > r2 || A.rowval[r1] != col || iszero(A.nzval[r1])\n",
    "                throw(LinearAlgebra.SingularException(col))\n",
    "            end\n",
    "            diag[col] = r1\n",
    "        end\n",
    "\n",
    "        new(A, diag) #\n",
    "    end\n",
    "end\n",
    "\n",
    "DiagonalIndices(A::SparseMatrixCSC{Tv,Ti}) where {Tv,Ti} = DiagonalIndices{Tv,Ti}(A)\n"
   ]
  },
  {
   "cell_type": "code",
   "execution_count": 11,
   "metadata": {},
   "outputs": [
    {
     "ename": "UndefVarError",
     "evalue": "UndefVarError: new not defined",
     "output_type": "error",
     "traceback": [
      "UndefVarError: new not defined",
      "",
      "Stacktrace:",
      " [1] top-level scope at In[11]:1"
     ]
    }
   ],
   "source": [
    "new(A)"
   ]
  },
  {
   "cell_type": "code",
   "execution_count": 12,
   "metadata": {},
   "outputs": [
    {
     "data": {
      "text/plain": [
       "3"
      ]
     },
     "execution_count": 12,
     "metadata": {},
     "output_type": "execute_result"
    }
   ],
   "source": [
    "col = 1\n",
    "r1 = Int(A.colptr[col])\n",
    "r2 = Int(A.colptr[col + 1] - 1)"
   ]
  },
  {
   "cell_type": "code",
   "execution_count": 13,
   "metadata": {},
   "outputs": [
    {
     "data": {
      "text/plain": [
       "1"
      ]
     },
     "execution_count": 13,
     "metadata": {},
     "output_type": "execute_result"
    }
   ],
   "source": [
    "r1"
   ]
  },
  {
   "cell_type": "code",
   "execution_count": 14,
   "metadata": {},
   "outputs": [
    {
     "data": {
      "text/plain": [
       "10001-element Array{Int64,1}:\n",
       "     1\n",
       "     4\n",
       "     8\n",
       "    12\n",
       "    16\n",
       "    20\n",
       "    24\n",
       "    28\n",
       "    32\n",
       "    36\n",
       "    40\n",
       "    44\n",
       "    48\n",
       "     ⋮\n",
       " 49558\n",
       " 49562\n",
       " 49566\n",
       " 49570\n",
       " 49574\n",
       " 49578\n",
       " 49582\n",
       " 49586\n",
       " 49590\n",
       " 49594\n",
       " 49598\n",
       " 49601"
      ]
     },
     "execution_count": 14,
     "metadata": {},
     "output_type": "execute_result"
    }
   ],
   "source": [
    "A.colptrA"
   ]
  },
  {
   "cell_type": "code",
   "execution_count": 15,
   "metadata": {},
   "outputs": [
    {
     "data": {
      "text/plain": [
       "10000×10000 SparseMatrixCSC{Float64,Int64} with 49600 stored entries:\n",
       "  [1    ,     1]  =  4.0\n",
       "  [2    ,     1]  =  -1.0\n",
       "  [101  ,     1]  =  -1.0\n",
       "  [1    ,     2]  =  -1.0\n",
       "  [2    ,     2]  =  4.0\n",
       "  [3    ,     2]  =  -1.0\n",
       "  [102  ,     2]  =  -1.0\n",
       "  [2    ,     3]  =  -1.0\n",
       "  [3    ,     3]  =  4.0\n",
       "  [4    ,     3]  =  -1.0\n",
       "  [103  ,     3]  =  -1.0\n",
       "  [3    ,     4]  =  -1.0\n",
       "  ⋮\n",
       "  [9997 ,  9997]  =  4.0\n",
       "  [9998 ,  9997]  =  -1.0\n",
       "  [9898 ,  9998]  =  -1.0\n",
       "  [9997 ,  9998]  =  -1.0\n",
       "  [9998 ,  9998]  =  4.0\n",
       "  [9999 ,  9998]  =  -1.0\n",
       "  [9899 ,  9999]  =  -1.0\n",
       "  [9998 ,  9999]  =  -1.0\n",
       "  [9999 ,  9999]  =  4.0\n",
       "  [10000,  9999]  =  -1.0\n",
       "  [9900 , 10000]  =  -1.0\n",
       "  [9999 , 10000]  =  -1.0\n",
       "  [10000, 10000]  =  4.0"
      ]
     },
     "execution_count": 15,
     "metadata": {},
     "output_type": "execute_result"
    }
   ],
   "source": [
    "A"
   ]
  },
  {
   "cell_type": "code",
   "execution_count": 18,
   "metadata": {},
   "outputs": [
    {
     "data": {
      "text/plain": [
       "49600-element Array{Int64,1}:\n",
       "     1\n",
       "     2\n",
       "   101\n",
       "     1\n",
       "     2\n",
       "     3\n",
       "   102\n",
       "     2\n",
       "     3\n",
       "     4\n",
       "   103\n",
       "     3\n",
       "     4\n",
       "     ⋮\n",
       "  9998\n",
       "  9898\n",
       "  9997\n",
       "  9998\n",
       "  9999\n",
       "  9899\n",
       "  9998\n",
       "  9999\n",
       " 10000\n",
       "  9900\n",
       "  9999\n",
       " 10000"
      ]
     },
     "execution_count": 18,
     "metadata": {},
     "output_type": "execute_result"
    }
   ],
   "source": [
    "A.rowval"
   ]
  },
  {
   "cell_type": "code",
   "execution_count": 16,
   "metadata": {},
   "outputs": [
    {
     "data": {
      "text/plain": [
       "1"
      ]
     },
     "execution_count": 16,
     "metadata": {},
     "output_type": "execute_result"
    }
   ],
   "source": [
    "searchsortedfirst(A.rowval, 1, r1, r2, Base.Order.Forward)"
   ]
  },
  {
   "cell_type": "code",
   "execution_count": 31,
   "metadata": {},
   "outputs": [
    {
     "data": {
      "text/plain": [
       "10000×10000 SparseMatrixCSC{Float64,Int64} with 49600 stored entries:\n",
       "  [1    ,     1]  =  4.0\n",
       "  [2    ,     1]  =  -1.0\n",
       "  [101  ,     1]  =  -1.0\n",
       "  [1    ,     2]  =  -1.0\n",
       "  [2    ,     2]  =  4.0\n",
       "  [3    ,     2]  =  -1.0\n",
       "  [102  ,     2]  =  -1.0\n",
       "  [2    ,     3]  =  -1.0\n",
       "  [3    ,     3]  =  4.0\n",
       "  [4    ,     3]  =  -1.0\n",
       "  [103  ,     3]  =  -1.0\n",
       "  [3    ,     4]  =  -1.0\n",
       "  ⋮\n",
       "  [9997 ,  9997]  =  4.0\n",
       "  [9998 ,  9997]  =  -1.0\n",
       "  [9898 ,  9998]  =  -1.0\n",
       "  [9997 ,  9998]  =  -1.0\n",
       "  [9998 ,  9998]  =  4.0\n",
       "  [9999 ,  9998]  =  -1.0\n",
       "  [9899 ,  9999]  =  -1.0\n",
       "  [9998 ,  9999]  =  -1.0\n",
       "  [9999 ,  9999]  =  4.0\n",
       "  [10000,  9999]  =  -1.0\n",
       "  [9900 , 10000]  =  -1.0\n",
       "  [9999 , 10000]  =  -1.0\n",
       "  [10000, 10000]  =  4.0"
      ]
     },
     "execution_count": 31,
     "metadata": {},
     "output_type": "execute_result"
    }
   ],
   "source": [
    "A"
   ]
  },
  {
   "cell_type": "code",
   "execution_count": 30,
   "metadata": {},
   "outputs": [
    {
     "data": {
      "text/plain": [
       "10001-element Array{Int64,1}:\n",
       "     1\n",
       "     4\n",
       "     8\n",
       "    12\n",
       "    16\n",
       "    20\n",
       "    24\n",
       "    28\n",
       "    32\n",
       "    36\n",
       "    40\n",
       "    44\n",
       "    48\n",
       "     ⋮\n",
       " 49558\n",
       " 49562\n",
       " 49566\n",
       " 49570\n",
       " 49574\n",
       " 49578\n",
       " 49582\n",
       " 49586\n",
       " 49590\n",
       " 49594\n",
       " 49598\n",
       " 49601"
      ]
     },
     "execution_count": 30,
     "metadata": {},
     "output_type": "execute_result"
    }
   ],
   "source": [
    "A.colptr[:]"
   ]
  },
  {
   "cell_type": "code",
   "execution_count": null,
   "metadata": {},
   "outputs": [],
   "source": [
    "import LinearAlgebra: mul!, ldiv!\n",
    "import Base: getindex, iterate\n",
    "\n",
    "using SparseArrays\n",
    "\n",
    "struct DiagonalIndices{Tv, Ti <: Integer}\n",
    "    matrix::SparseMatrixCSC{Tv,Ti}\n",
    "    diag::Vector{Ti}\n",
    "\n",
    "    function DiagonalIndices{Tv,Ti}(A::SparseMatrixCSC{Tv,Ti}) where {Tv,Ti}\n",
    "        # Check square?\n",
    "        diag = Vector{Ti}(undef, A.n)\n",
    "\n",
    "        for col = 1 : A.n\n",
    "            r1 = Int(A.colptr[col])\n",
    "            r2 = Int(A.colptr[col + 1] - 1)\n",
    "            r1 = searchsortedfirst(A.rowval, col, r1, r2, Base.Order.Forward)\n",
    "            if r1 > r2 || A.rowval[r1] != col || iszero(A.nzval[r1])\n",
    "                throw(LinearAlgebra.SingularException(col))\n",
    "            end\n",
    "            diag[col] = r1\n",
    "        end\n",
    "\n",
    "        new(A, diag)\n",
    "    end\n",
    "end\n",
    "\n",
    "struct FastLowerTriangular{Tv,Ti}\n",
    "    matrix::SparseMatrixCSC{Tv,Ti}\n",
    "    diag::DiagonalIndices{Tv,Ti}\n",
    "end\n",
    "\n",
    "struct FastUpperTriangular{Tv,Ti}\n",
    "    matrix::SparseMatrixCSC{Tv,Ti}\n",
    "    diag::DiagonalIndices{Tv,Ti}\n",
    "end\n",
    "\n",
    "struct StrictlyUpperTriangular{Tv,Ti}\n",
    "    matrix::SparseMatrixCSC{Tv,Ti}\n",
    "    diag::DiagonalIndices{Tv,Ti}\n",
    "end\n",
    "\n",
    "struct StrictlyLowerTriangular{Tv,Ti}\n",
    "    matrix::SparseMatrixCSC{Tv,Ti}\n",
    "    diag::DiagonalIndices{Tv,Ti}\n",
    "end\n",
    "\n",
    "struct OffDiagonal{Tv,Ti}\n",
    "    matrix::SparseMatrixCSC{Tv,Ti}\n",
    "    diag::DiagonalIndices{Tv,Ti}\n",
    "end\n",
    "\n",
    "\"\"\"\n",
    "Forward substitution for the FastLowerTriangular type\n",
    "\"\"\"\n",
    "function forward_sub!(F::FastLowerTriangular, x::AbstractVector)\n",
    "    A = F.matrix\n",
    "\n",
    "    @inbounds for col = 1 : A.n\n",
    "\n",
    "        # Solve for diagonal element\n",
    "        idx = F.diag[col]\n",
    "        x[col] /= A.nzval[idx]\n",
    "\n",
    "        # Substitute next values involving x[col]\n",
    "        for i = idx + 1 : (A.colptr[col + 1] - 1)\n",
    "            x[A.rowval[i]] -= A.nzval[i] * x[col]\n",
    "        end\n",
    "    end\n",
    "\n",
    "    x\n",
    "end\n",
    "\n",
    "\"\"\"\n",
    "Forward substitution\n",
    "\"\"\"\n",
    "function forward_sub!(α, F::FastLowerTriangular, x::AbstractVector, β, y::AbstractVector)\n",
    "    A = F.matrix\n",
    "\n",
    "    @inbounds for col = 1 : A.n\n",
    "\n",
    "        # Solve for diagonal element\n",
    "        idx = F.diag[col]\n",
    "        x[col] = α * x[col] / A.nzval[idx] + β * y[col]\n",
    "\n",
    "        # Substitute next values involving x[col]\n",
    "        for i = idx + 1 : (A.colptr[col + 1] - 1)\n",
    "            x[A.rowval[i]] -= A.nzval[i] * x[col]\n",
    "        end\n",
    "    end\n",
    "\n",
    "    x\n",
    "end\n",
    "\n",
    "\"\"\"\n",
    "Backward substitution for the FastUpperTriangular type\n",
    "\"\"\"\n",
    "function backward_sub!(F::FastUpperTriangular, x::AbstractVector)\n",
    "    A = F.matrix\n",
    "\n",
    "    @inbounds for col = A.n : -1 : 1\n",
    "\n",
    "        # Solve for diagonal element\n",
    "        idx = F.diag[col]\n",
    "        x[col] = x[col] / A.nzval[idx]\n",
    "\n",
    "        # Substitute next values involving x[col]\n",
    "        for i = A.colptr[col] : idx - 1\n",
    "            x[A.rowval[i]] -= A.nzval[i] * x[col]\n",
    "        end\n",
    "    end\n",
    "\n",
    "    x\n",
    "end\n",
    "\n",
    "function backward_sub!(α, F::FastUpperTriangular, x::AbstractVector, β, y::AbstractVector)\n",
    "    A = F.matrix\n",
    "\n",
    "    @inbounds for col = A.n : -1 : 1\n",
    "\n",
    "        # Solve for diagonal element\n",
    "        idx = F.diag[col]\n",
    "        x[col] = α * x[col] / A.nzval[idx] + β * y[col]\n",
    "\n",
    "        # Substitute next values involving x[col]\n",
    "        for i = A.colptr[col] : idx - 1\n",
    "            x[A.rowval[i]] -= A.nzval[i] * x[col]\n",
    "        end\n",
    "    end\n",
    "\n",
    "    x\n",
    "end\n",
    "\n",
    "\"\"\"\n",
    "Do mul! with the off-diagonal elements of a matrix.\n",
    "\"\"\"\n",
    "function mul!(α::T, O::OffDiagonal, x::AbstractVector, β::T, y::AbstractVector) where {T}\n",
    "    # Specialize for β = 0 and β = 1\n",
    "    A = O.matrix\n",
    "\n",
    "    if β != one(T)\n",
    "        if iszero(β)\n",
    "            fill!(y, zero(T))\n",
    "        else\n",
    "            lmul!(β, y)\n",
    "        end\n",
    "    end\n",
    "\n",
    "    @inbounds for col = 1 : A.n\n",
    "        αx = α * x[col]\n",
    "        diag_index = O.diag[col]\n",
    "        for j = A.colptr[col] : diag_index - 1\n",
    "            y[A.rowval[j]] += A.nzval[j] * αx\n",
    "        end\n",
    "        for j = diag_index + 1 : A.colptr[col + 1] - 1\n",
    "            y[A.rowval[j]] += A.nzval[j] * αx\n",
    "        end\n",
    "    end\n",
    "\n",
    "    y\n",
    "end\n",
    "\n",
    "\"\"\"\n",
    "Computes z := α * U * x + β * y. Because U is StrictlyUpperTriangular\n",
    "one can set z = x and update x in-place as x := α * U * x + β * y.\n",
    "\"\"\"\n",
    "function gauss_seidel_multiply!(α, U::StrictlyUpperTriangular, x::AbstractVector, β, y::AbstractVector, z::AbstractVector)\n",
    "    A = U.matrix\n",
    "\n",
    "    for col = 1 : A.n\n",
    "        αx = α * x[col]\n",
    "        diag_index = U.diag[col]\n",
    "        @inbounds for j = A.colptr[col] : diag_index - 1\n",
    "            z[A.rowval[j]] += A.nzval[j] * αx\n",
    "        end\n",
    "        z[col] = β * y[col]\n",
    "    end\n",
    "    z\n",
    "end\n",
    "\n",
    "\"\"\"\n",
    "Computes z := α * L * x + β * y. Because A is StrictlyLowerTriangular\n",
    "one can set z = x and update x in-place as x := α * L * x + β * y.\n",
    "\"\"\"\n",
    "function gauss_seidel_multiply!(α, L::StrictlyLowerTriangular, x::AbstractVector, β, y::AbstractVector, z::AbstractVector)\n",
    "    A = L.matrix\n",
    "\n",
    "    for col = A.n : -1 : 1\n",
    "        αx = α * x[col]\n",
    "        z[col] = β * y[col]\n",
    "        @inbounds for j = L.diag[col] + 1 : (A.colptr[col + 1] - 1)\n",
    "            z[A.rowval[j]] += A.nzval[j] * αx\n",
    "        end\n",
    "    end\n",
    "    z\n",
    "end\n",
    "\n",
    "##\n",
    "## Gauss-Seidel\n",
    "##\n",
    "\n",
    "mutable struct GaussSeidelIterable{solT, rhsT}\n",
    "    U::StrictlyUpperTriangular\n",
    "    L::FastLowerTriangular\n",
    "\n",
    "    x::solT\n",
    "    b::rhsT\n",
    "\n",
    "    maxiter::Int\n",
    "end\n",
    "\n",
    "function gauss_seidel_iterable(x::AbstractVector, A::SparseMatrixCSC, b::AbstractVector; maxiter::Int = 10)\n",
    "    D = DiagonalIndices(A)\n",
    "    GaussSeidelIterable(StrictlyUpperTriangular(A, D), FastLowerTriangular(A, D), x, b, maxiter)\n",
    "end\n",
    "\n",
    "start(::GaussSeidelIterable) = 1\n",
    "done(g::GaussSeidelIterable, iteration::Int) = iteration > g.maxiter\n",
    "\n",
    "\"\"\"\n",
    "    gauss_seidel!(x, A::SparseMatrixCSC, b; maxiter=10) -> x\n",
    "Performs exactly `maxiter` Gauss-Seidel iterations.\n",
    "Works fully in-place, but precomputes the diagonal indices.\n",
    "Throws `LinearAlgebra.SingularException` when the diagonal has a zero. This check\n",
    "is performed once beforehand.\n",
    "\"\"\"\n",
    "function gauss_seidel!(x::AbstractVector, A::SparseMatrixCSC, b::AbstractVector; maxiter::Int = 10)\n",
    "    iterable = gauss_seidel_iterable(x, A, b, maxiter = maxiter)\n",
    "    for item = iterable end\n",
    "    iterable.x\n",
    "end\n",
    "\n"
   ]
  },
  {
   "cell_type": "code",
   "execution_count": null,
   "metadata": {},
   "outputs": [],
   "source": []
  },
  {
   "cell_type": "code",
   "execution_count": null,
   "metadata": {},
   "outputs": [],
   "source": [
    "function iterate(g::GaussSeidelIterable, iteration::Int=start(g))\n",
    "    if done(g, iteration) return nothing end\n",
    "    # x ← L \\ (-U * x + b)\n",
    "    T = eltype(g.x)\n",
    "    gauss_seidel_multiply!(-one(T), g.U, g.x, one(T), g.b, g.x)\n",
    "    forward_sub!(g.L, g.x)\n",
    "\n",
    "    nothing, iteration + 1\n",
    "end\n"
   ]
  },
  {
   "cell_type": "code",
   "execution_count": null,
   "metadata": {},
   "outputs": [],
   "source": []
  },
  {
   "cell_type": "code",
   "execution_count": null,
   "metadata": {},
   "outputs": [],
   "source": []
  },
  {
   "cell_type": "code",
   "execution_count": null,
   "metadata": {},
   "outputs": [],
   "source": []
  },
  {
   "cell_type": "code",
   "execution_count": null,
   "metadata": {},
   "outputs": [],
   "source": [
    "\n",
    "function gauss_seidel_iterable(x::AbstractVector, A::SparseMatrixCSC, b::AbstractVector; maxiter::Int = 10)\n",
    "    D = DiagonalIndices(A)\n",
    "    GaussSeidelIterable(StrictlyUpperTriangular(A, D), FastLowerTriangular(A, D), x, b, maxiter)\n",
    "end\n",
    "\n",
    "start(::GaussSeidelIterable) = 1\n",
    "done(g::GaussSeidelIterable, iteration::Int) = iteration > g.maxiter\n",
    "function iterate(g::GaussSeidelIterable, iteration::Int=start(g))\n",
    "    if done(g, iteration) return nothing end\n",
    "    # x ← L \\ (-U * x + b)\n",
    "    T = eltype(g.x)\n",
    "    gauss_seidel_multiply!(-one(T), g.U, g.x, one(T), g.b, g.x)\n",
    "    forward_sub!(g.L, g.x)\n",
    "    #forward_sub!에서 input 값이 조정되고,.,\n",
    "    \n",
    "    nothing, iteration + 1\n",
    "end\n",
    "\n",
    "\n",
    "mutable struct GaussSeidelIterable{solT, rhsT}\n",
    "    U::StrictlyUpperTriangular\n",
    "    L::FastLowerTriangular\n",
    "\n",
    "    x::solT\n",
    "    b::rhsT\n",
    "\n",
    "    maxiter::Int\n",
    "end"
   ]
  },
  {
   "cell_type": "code",
   "execution_count": null,
   "metadata": {},
   "outputs": [],
   "source": []
  },
  {
   "cell_type": "code",
   "execution_count": null,
   "metadata": {},
   "outputs": [],
   "source": []
  },
  {
   "cell_type": "code",
   "execution_count": null,
   "metadata": {},
   "outputs": [],
   "source": []
  },
  {
   "cell_type": "code",
   "execution_count": 23,
   "metadata": {},
   "outputs": [
    {
     "name": "stdout",
     "output_type": "stream",
     "text": [
      "1\n",
      "4\n",
      "9\n",
      "16\n",
      "25\n",
      "36\n",
      "49\n"
     ]
    }
   ],
   "source": [
    "#itter method를 축약해서 표현하는 방법은 아래와 같음..\n",
    "\n",
    "for i in iter   # or  \"for i = iter\"\n",
    "    # body\n",
    "end\n",
    "\n",
    "\"\"\"\n",
    "next = iterate(iter)\n",
    "while next !== nothing\n",
    "    (i, state) = next\n",
    "    # body\n",
    "    next = iterate(iter, state)\n",
    "end\n",
    "\n",
    "\n",
    "\"\"\"\n",
    "\n",
    "struct Squares\n",
    "   count::Int\n",
    "end\n",
    "\n",
    "\n",
    "Base.iterate(S::Squares, state=1) = state > S.count ? nothing : (state*state, state+1)\n",
    "\n",
    "#base itterate input function이라 state받고 output 이 state로 나옴.\n",
    "\n",
    "for i in Squares(7)\n",
    "   println(i)\n",
    "end"
   ]
  },
  {
   "cell_type": "code",
   "execution_count": 24,
   "metadata": {},
   "outputs": [
    {
     "data": {
      "text/plain": [
       "2"
      ]
     },
     "execution_count": 24,
     "metadata": {},
     "output_type": "execute_result"
    }
   ],
   "source": [
    "hi = 1> 2 ? 1 : 2"
   ]
  }
 ],
 "metadata": {
  "kernelspec": {
   "display_name": "Julia 1.2.0",
   "language": "julia",
   "name": "julia-1.2"
  },
  "language_info": {
   "file_extension": ".jl",
   "mimetype": "application/julia",
   "name": "julia",
   "version": "1.2.0"
  }
 },
 "nbformat": 4,
 "nbformat_minor": 4
}
