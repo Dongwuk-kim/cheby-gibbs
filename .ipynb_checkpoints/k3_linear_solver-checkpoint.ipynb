{
 "cells": [
  {
   "cell_type": "markdown",
   "metadata": {},
   "source": [
    "# julia itteration solver sparse src"
   ]
  },
  {
   "cell_type": "code",
   "execution_count": 9,
   "metadata": {},
   "outputs": [
    {
     "data": {
      "text/plain": [
       "forward_sub! (generic function with 2 methods)"
      ]
     },
     "execution_count": 9,
     "metadata": {},
     "output_type": "execute_result"
    }
   ],
   "source": [
    "import LinearAlgebra: mul!, ldiv!\n",
    "import Base: getindex, iterate\n",
    "using SparseArrays\n",
    "\n",
    "struct DiagonalIndices{Tv, Ti <: Integer}\n",
    "    matrix::SparseMatrixCSC{Tv,Ti}\n",
    "    diag::Vector{Ti}\n",
    "\n",
    "    function DiagonalIndices{Tv,Ti}(A::SparseMatrixCSC{Tv,Ti}) where {Tv,Ti}\n",
    "        # Check square?\n",
    "        diag = Vector{Ti}(undef, A.n)\n",
    "\n",
    "        for col = 1 : A.n\n",
    "            r1 = Int(A.colptr[col])\n",
    "            r2 = Int(A.colptr[col + 1] - 1)\n",
    "            r1 = searchsortedfirst(A.rowval, col, r1, r2, Base.Order.Forward)\n",
    "            if r1 > r2 || A.rowval[r1] != col || iszero(A.nzval[r1])\n",
    "                throw(LinearAlgebra.SingularException(col))\n",
    "            end\n",
    "            diag[col] = r1\n",
    "        end \n",
    "\n",
    "        new(A, diag) #\n",
    "    end\n",
    "end\n",
    "\n",
    "DiagonalIndices(A::SparseMatrixCSC{Tv,Ti}) where {Tv,Ti} = DiagonalIndices{Tv,Ti}(A)\n",
    "@inline getindex(d::DiagonalIndices, i::Int) = d.diag[i]\n",
    "\n",
    "\n",
    "struct FastLowerTriangular{Tv,Ti}\n",
    "    matrix::SparseMatrixCSC{Tv,Ti}\n",
    "    diag::DiagonalIndices{Tv,Ti}\n",
    "end\n",
    "\n",
    "struct FastUpperTriangular{Tv,Ti}\n",
    "    matrix::SparseMatrixCSC{Tv,Ti}\n",
    "    diag::DiagonalIndices{Tv,Ti}\n",
    "end\n",
    "\n",
    "struct StrictlyUpperTriangular{Tv,Ti}\n",
    "    matrix::SparseMatrixCSC{Tv,Ti}\n",
    "    diag::DiagonalIndices{Tv,Ti}\n",
    "end\n",
    "\n",
    "struct StrictlyLowerTriangular{Tv,Ti}\n",
    "    matrix::SparseMatrixCSC{Tv,Ti}\n",
    "    diag::DiagonalIndices{Tv,Ti}\n",
    "end\n",
    "\n",
    "struct OffDiagonal{Tv,Ti}\n",
    "    matrix::SparseMatrixCSC{Tv,Ti}\n",
    "    diag::DiagonalIndices{Tv,Ti}\n",
    "end\n",
    "\n",
    "\n",
    "function forward_sub!(F::FastLowerTriangular, x::AbstractVector)\n",
    "    A = F.matrix\n",
    "    @inbounds for col = 1 : A.n\n",
    "        idx = F.diag[col]\n",
    "        x[col] /= A.nzval[idx] # ok\n",
    "        for i = idx + 1 : (A.colptr[col + 1] - 1) #colptr인데 lower triangular이기 때문에 해당 col의 diagonal 아래 개수가나옴.\n",
    "            x[A.rowval[i]] -= A.nzval[i] * x[col] # 이 term으로 x[n] 계산할때 그이전텀들이 다 마이너스 되어서 있음. \n",
    "        end\n",
    "    end\n",
    "    x\n",
    "end\n",
    "\n",
    "# solve  A(x- β × y) = α × b (여기서 b = x)\n",
    "function forward_sub!(α, F::FastLowerTriangular, x::AbstractVector, β, y::AbstractVector)\n",
    "    A = F.matrix\n",
    "\n",
    "    @inbounds for col = 1 : A.n\n",
    "\n",
    "        # Solve for diagonal element\n",
    "        idx = F.diag[col]\n",
    "        x[col] = α * x[col] / A.nzval[idx] + β * y[col]\n",
    "\n",
    "        # Substitute next values involving x[col]\n",
    "        for i = idx + 1 : (A.colptr[col + 1] - 1)\n",
    "            x[A.rowval[i]] -= A.nzval[i] * x[col]\n",
    "        end\n",
    "    end\n",
    "\n",
    "    x\n",
    "end\n",
    "\n",
    "\n",
    "\n"
   ]
  },
  {
   "cell_type": "markdown",
   "metadata": {},
   "source": [
    "# Custom src"
   ]
  },
  {
   "cell_type": "code",
   "execution_count": 26,
   "metadata": {},
   "outputs": [
    {
     "data": {
      "text/plain": [
       "k3_sor (generic function with 1 method)"
      ]
     },
     "execution_count": 26,
     "metadata": {},
     "output_type": "execute_result"
    }
   ],
   "source": [
    "\n",
    "#(α×A×X)+(β×y)  \n",
    "function f_mul(α::T, O::DiagonalIndices, x::AbstractVector, β::T, b::AbstractVector ) where {T}\n",
    "    # Specialize for β = 0 and β = 1\n",
    "    A = O.matrix\n",
    "    y = copy(b)\n",
    "\n",
    "    if β != one(T)\n",
    "        if iszero(β)\n",
    "            fill!(y, zero(T))\n",
    "        else\n",
    "            lmul!(β, y) \n",
    "        end\n",
    "    end\n",
    "\n",
    "    @inbounds for col = 1 : A.n\n",
    "        αx = α * x[col]\n",
    "        diag_index = O.diag[col]\n",
    "        for j = A.colptr[col] : A.colptr[col + 1] - 1\n",
    "            y[A.rowval[j]] += A.nzval[j] * αx\n",
    "        end\n",
    "    end\n",
    "\n",
    "    y\n",
    "end\n",
    "\n",
    "\n",
    "\n",
    "\n",
    "function m_sor!(A, D::DiagonalIndices, w)\n",
    "    for d_idx in D.diag \n",
    "        A.nzval[d_idx]  *= (1/w)\n",
    "    end\n",
    "    @inbounds for col = 1 : A.n\n",
    "        for j = A.colptr[col] :  A.colptr[col + 1] - 1\n",
    "            if A.rowval[j] < col \n",
    "                A.nzval[j] = 0\n",
    "            end\n",
    "        end\n",
    "    end\n",
    "    \n",
    "end\n",
    "\n",
    "\n",
    "function itter_sor!(F::FastLowerTriangular, D::DiagonalIndices,\n",
    "                        x::AbstractVector, b::AbstractVector, max_itter)\n",
    "    A = D.matrix\n",
    "    T = eltype(b)\n",
    "    r =zeros(A.n)\n",
    "    \n",
    "    r[:] = b - A * x\n",
    "    \n",
    "    for i = 1 : max_itter \n",
    "        if norm( r, 2) < 10^-8 \n",
    "            return x\n",
    "        end\n",
    "        x[:] += forward_sub!(F, r)\n",
    "        #r[:] = b - A * x\n",
    "        r[:] = f_mul(-one(T), D, x, one(T), b)\n",
    "    end\n",
    "    \n",
    "    x\n",
    "end\n",
    "\n",
    "\n",
    "function k3_sor(A, b::AbstractVector, w, maxiter)\n",
    "    x = zeros(A.n)\n",
    "    m_sor = copy(A)\n",
    "    D = DiagonalIndices(A)\n",
    "    m_sor!(m_sor, D, w)\n",
    "    D_ms = DiagonalIndices(m_sor)\n",
    "    itter_sor!(FastLowerTriangular(m_sor ,D_ms), D, x , b, maxiter)\n",
    "end\n",
    "\n",
    "\n",
    "function sqrt_diag_mul!(D::DiagonalIndices, b::AbstractVector)\n",
    "    A = D.matrix\n",
    "    for idx in D.diag \n",
    "        b[A.rowval[idx]] *= sqrt(A.nzval[idx])\n",
    "    end\n",
    "end\n",
    "\n",
    "function itter_ssor!(F::FastLowerTriangular, U::FastUpperTriangular, D::DiagonalIndices,\n",
    "                        x::AbstractVector, b::AbstractVector, max_itter)\n",
    "    A = D.matrix\n",
    "    T = eltype(b)\n",
    "    r_1 = zeros(A.n)\n",
    "    r_2 = zeros(A.n)\n",
    "        \n",
    "    for i = 1 : max_itter \n",
    "        r_1[:] = f_mul(-one(T), D, x, one(T), b)\n",
    "        x[:] += forward_sub!(F, r)\n",
    "        r_2[:] = f_mul(-one(T), D, x, one(T), b)\n",
    "\n",
    "        \n",
    "    end\n",
    "    \n",
    "    x\n",
    "end\n",
    "\n",
    "\n",
    "function k3_ssor!(A, b::AbstractVector, w, maxiter)\n",
    "    x = zeros(A.n)\n",
    "    m_sor = copy(A)\n",
    "    D = DiagonalIndices(A)\n",
    "    \n",
    "    m_sor!(m_sor, D, w)\n",
    "    sqrt_diag_mul!(D,b)\n",
    "    \n",
    "    D_ms = DiagonalIndices(m_sor)\n",
    "    m_sor_t = sparse(m_sor')\n",
    "    D_ms_t = DiagonalIndices(m_sor_t)\n",
    "    \n",
    "    itter_ssor!(FastLowerTriangular(m_sor ,D_ms), FastUpperTriangular(m_sor_t,D_ms_t),\n",
    "                    D, x , b, maxiter)\n",
    "end\n",
    "\n",
    "\n",
    "\n"
   ]
  },
  {
   "cell_type": "markdown",
   "metadata": {},
   "source": [
    "# Test code"
   ]
  },
  {
   "cell_type": "code",
   "execution_count": 36,
   "metadata": {},
   "outputs": [
    {
     "name": "stdout",
     "output_type": "stream",
     "text": [
      "typeof(A) = SparseMatrixCSC{Float64,Int64}\n",
      "typeof(Afull) = Array{Float64,2}\n"
     ]
    },
    {
     "data": {
      "text/plain": [
       "1000000-element Array{Float64,1}:\n",
       "  0.12623784496408763\n",
       " -2.3468794813834966 \n",
       "  1.9166090582536102 \n",
       " -0.23920888512829233\n",
       " -0.5784508270929073 \n",
       " -1.1278278196026448 \n",
       "  1.1478628422667982 \n",
       " -1.354705173870581  \n",
       " -0.23706547458394342\n",
       " -0.6809935026697    \n",
       " -0.8826696457022515 \n",
       "  1.7138424693341203 \n",
       " -0.7339523682572253 \n",
       "  ⋮                  \n",
       "  0.9974336658860118 \n",
       " -0.6938258120738878 \n",
       " -0.2581456552315425 \n",
       " -1.1521788642253536 \n",
       "  0.9090789430757401 \n",
       "  0.4155618883658102 \n",
       "  0.9035113629042111 \n",
       "  1.0941697035759808 \n",
       "  0.5103199450199046 \n",
       "  0.1637036005101834 \n",
       "  0.24691062073070266\n",
       "  0.10853338073637239"
      ]
     },
     "execution_count": 36,
     "metadata": {},
     "output_type": "execute_result"
    }
   ],
   "source": [
    "using BenchmarkTools, IterativeSolvers, LinearAlgebra, MatrixDepot, Random\n",
    "\n",
    "Random.seed!(280)\n",
    "\n",
    "n = 1000\n",
    "# Poisson matrix of dimension n^2=10000, pd and sparse\n",
    "A = matrixdepot(\"poisson\", n)\n",
    "@show typeof(A)\n",
    "# dense matrix representation of A\n",
    "#Afull = convert(Matrix, A)\n",
    "@show typeof(Afull)\n",
    "# sparsity level\n",
    "count(!iszero, A) / length(A)\n",
    "b = randn(n^2)"
   ]
  },
  {
   "cell_type": "code",
   "execution_count": 37,
   "metadata": {},
   "outputs": [
    {
     "data": {
      "text/plain": [
       "BenchmarkTools.Trial: \n",
       "  memory estimate:  23.19 MiB\n",
       "  allocs estimate:  20010\n",
       "  --------------\n",
       "  minimum time:     173.797 s (0.00% GC)\n",
       "  median time:      173.797 s (0.00% GC)\n",
       "  mean time:        173.797 s (0.00% GC)\n",
       "  maximum time:     173.797 s (0.00% GC)\n",
       "  --------------\n",
       "  samples:          1\n",
       "  evals/sample:     1"
      ]
     },
     "execution_count": 37,
     "metadata": {},
     "output_type": "execute_result"
    }
   ],
   "source": [
    "@benchmark sor($A, $b, 0.75, maxiter=10000)"
   ]
  },
  {
   "cell_type": "code",
   "execution_count": 33,
   "metadata": {},
   "outputs": [
    {
     "data": {
      "text/plain": [
       "1.0148607659440114e-13"
      ]
     },
     "execution_count": 33,
     "metadata": {},
     "output_type": "execute_result"
    }
   ],
   "source": [
    "norm(sor(A, b, 0.75, maxiter=10000) - k3_sor(A, b, 0.75, 10000) ,2)"
   ]
  },
  {
   "cell_type": "code",
   "execution_count": 38,
   "metadata": {},
   "outputs": [
    {
     "data": {
      "text/plain": [
       "BenchmarkTools.Trial: \n",
       "  memory estimate:  223.65 GiB\n",
       "  allocs estimate:  60022\n",
       "  --------------\n",
       "  minimum time:     310.587 s (6.54% GC)\n",
       "  median time:      310.587 s (6.54% GC)\n",
       "  mean time:        310.587 s (6.54% GC)\n",
       "  maximum time:     310.587 s (6.54% GC)\n",
       "  --------------\n",
       "  samples:          1\n",
       "  evals/sample:     1"
      ]
     },
     "execution_count": 38,
     "metadata": {},
     "output_type": "execute_result"
    }
   ],
   "source": [
    "@benchmark k3_sor($A, $b, 0.75, 10000)"
   ]
  }
 ],
 "metadata": {
  "kernelspec": {
   "display_name": "Julia 1.2.0",
   "language": "julia",
   "name": "julia-1.2"
  },
  "language_info": {
   "file_extension": ".jl",
   "mimetype": "application/julia",
   "name": "julia",
   "version": "1.2.0"
  }
 },
 "nbformat": 4,
 "nbformat_minor": 4
}
